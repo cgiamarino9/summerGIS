{
 "cells": [
  {
   "cell_type": "markdown",
   "id": "9b71068e-20f7-4b94-9f6f-6153a4318c3f",
   "metadata": {},
   "source": [
    "# test markdown\n"
   ]
  },
  {
   "cell_type": "code",
   "execution_count": 1,
   "id": "f6ae8f64-cc8b-4ef2-8264-ed8e25667ee8",
   "metadata": {},
   "outputs": [
    {
     "name": "stdout",
     "output_type": "stream",
     "text": [
      "hello\n"
     ]
    }
   ],
   "source": [
    "print(\"hello\")"
   ]
  },
  {
   "cell_type": "code",
   "execution_count": null,
   "id": "788b4b3a-36ba-4ef3-ad5b-5631057f1526",
   "metadata": {},
   "outputs": [],
   "source": []
  }
 ],
 "metadata": {
  "kernelspec": {
   "display_name": "Python [conda env:base] *",
   "language": "python",
   "name": "conda-base-py"
  },
  "language_info": {
   "codemirror_mode": {
    "name": "ipython",
    "version": 3
   },
   "file_extension": ".py",
   "mimetype": "text/x-python",
   "name": "python",
   "nbconvert_exporter": "python",
   "pygments_lexer": "ipython3",
   "version": "3.12.3"
  }
 },
 "nbformat": 4,
 "nbformat_minor": 5
}

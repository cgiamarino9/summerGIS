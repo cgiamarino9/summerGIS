{
 "cells": [
  {
   "cell_type": "markdown",
   "id": "371f0432-a928-4e0b-be81-7fcb5c20db88",
   "metadata": {},
   "source": [
    "## This is a markdown header for the tutorial\n",
    "\n",
    "### This is a homework code example\n",
    "\n",
    "Chris Giamarino</br>\n",
    "\n",
    "Data sources: "
   ]
  },
  {
   "cell_type": "code",
   "execution_count": 1,
   "id": "15f22fdf-f691-4d6a-8e6c-273efb551abc",
   "metadata": {},
   "outputs": [
    {
     "name": "stdout",
     "output_type": "stream",
     "text": [
      "push to remote\n"
     ]
    }
   ],
   "source": [
    "print(\"push to remote\")"
   ]
  },
  {
   "cell_type": "code",
   "execution_count": null,
   "id": "3949f220-4add-4255-be1a-2ae5eafacc70",
   "metadata": {},
   "outputs": [],
   "source": []
  }
 ],
 "metadata": {
  "kernelspec": {
   "display_name": "Python 3 (ipykernel)",
   "language": "python",
   "name": "python3"
  },
  "language_info": {
   "codemirror_mode": {
    "name": "ipython",
    "version": 3
   },
   "file_extension": ".py",
   "mimetype": "text/x-python",
   "name": "python",
   "nbconvert_exporter": "python",
   "pygments_lexer": "ipython3",
   "version": "3.12.3"
  }
 },
 "nbformat": 4,
 "nbformat_minor": 5
}
